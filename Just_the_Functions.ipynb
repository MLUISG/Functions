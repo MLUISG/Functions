{
  "nbformat": 4,
  "nbformat_minor": 0,
  "metadata": {
    "colab": {
      "provenance": [],
      "authorship_tag": "ABX9TyPX8nsno4eIua+lKMQIwjxv",
      "include_colab_link": true
    },
    "kernelspec": {
      "name": "python3",
      "display_name": "Python 3"
    },
    "language_info": {
      "name": "python"
    }
  },
  "cells": [
    {
      "cell_type": "markdown",
      "metadata": {
        "id": "view-in-github",
        "colab_type": "text"
      },
      "source": [
        "<a href=\"https://colab.research.google.com/github/MLUISG/Functions/blob/main/Just_the_Functions.ipynb\" target=\"_parent\"><img src=\"https://colab.research.google.com/assets/colab-badge.svg\" alt=\"Open In Colab\"/></a>"
      ]
    },
    {
      "cell_type": "code",
      "execution_count": null,
      "metadata": {
        "id": "3P5md8Xe0mSd"
      },
      "outputs": [],
      "source": [
        "def show_me(df):\n",
        "  \"\"\"Displays info, describe, head, and tail\n",
        "  \n",
        "Money in the bank,\n",
        "Show me the stats and details,\n",
        "Info, head, tail, done.\"\"\"\n",
        "  print('Info')  \n",
        "  print(df.info())\n",
        "  print('\\n\\n')\n",
        "  print('Described')\n",
        "  print(df.describe().T)\n",
        "  print('\\n\\n')\n",
        "  print('Head')\n",
        "  print(df.head().T)\n",
        "  print('\\n\\n')\n",
        "  print('Tail')\n",
        "  print(df.tail().T)"
      ]
    },
    {
      "cell_type": "code",
      "source": [
        "def find_tuple_cols(df):\n",
        "  \"\"\"Identifies tuples in all columns in a dataframe\n",
        "\n",
        "Tuple columns sought,\n",
        "Amidst the data's great breadth,\n",
        "Found and returned whole.\"\"\"\n",
        "  tuple_cols = [col for col in df.columns if df[col].apply(lambda x: isinstance(x, tuple)).any()]\n",
        "  return tuple_cols"
      ],
      "metadata": {
        "id": "CmCKhbhVtThA"
      },
      "execution_count": null,
      "outputs": []
    },
    {
      "cell_type": "code",
      "source": [
        "def convert_tuples_to_lists(df):\n",
        "  \"\"\"Loops through columns, converting tuples\n",
        "\n",
        "From tuples to lists,\n",
        "DataFrame transformed with ease,\n",
        "Data now unbound.\"\"\"\n",
        "  for col in df.columns:\n",
        "      if type(df[col][0]) == tuple:\n",
        "          df[col] = df[col].apply(list)\n",
        "  return df"
      ],
      "metadata": {
        "id": "deKfmQO5tWwG"
      },
      "execution_count": null,
      "outputs": []
    },
    {
      "cell_type": "code",
      "source": [
        "def remove_outliers(df):\n",
        "  \"\"\"Removes outliers from all columns in a dataframe\n",
        "\n",
        "Outliers expelled,\n",
        "Data purged of impurities,\n",
        "Clean and pristine now.\"\"\"\n",
        "  cleaned_data = df\n",
        "  for col in df.columns:\n",
        "      mean = df[col].mean()\n",
        "      std = df[col].std()\n",
        "      threshold = 3 * std\n",
        "      lower_bound = mean - threshold\n",
        "      upper_bound = mean + threshold\n",
        "      cleaned_data[col] = df[col][(df[col] > lower_bound) & (df[col] < upper_bound)]\n",
        "  return cleaned_data"
      ],
      "metadata": {
        "id": "P35gOHNQtb4A"
      },
      "execution_count": null,
      "outputs": []
    },
    {
      "cell_type": "code",
      "source": [
        "def impute_means(df):\n",
        "  \"\"\"Imputes the mean value of a column to all null values in that column\n",
        "  \n",
        "Missing values found,\n",
        "Impute means to numeric cols,\n",
        "Clean data once more.\"\"\"\n",
        "  for col in df.columns:\n",
        "        if df[col].isna().sum() == 0:\n",
        "            continue\n",
        "        if pd.api.types.is_numeric_dtype(df[col]):\n",
        "            df[col].fillna(df[col].mean(), inplace=True)\n",
        "  return df"
      ],
      "metadata": {
        "id": "ppmimZgdCsr6"
      },
      "execution_count": null,
      "outputs": []
    },
    {
      "cell_type": "code",
      "source": [
        "def all_the_value_counts(df):\n",
        "    \"\"\"Prints the value counts for all columns in a pandas DataFrame\n",
        "    \n",
        "Counting values wide,\n",
        "All columns, one by one revealed,\n",
        "Insight to be found.\"\"\"\n",
        "    for column in df.columns:\n",
        "        print(f\"Value counts for {column}:\")\n",
        "        print(df[column].value_counts())\n",
        "        print(\"\\n\")"
      ],
      "metadata": {
        "id": "w_VVbOzx0vKK"
      },
      "execution_count": null,
      "outputs": []
    },
    {
      "cell_type": "code",
      "source": [
        "def count_the_cats(df):\n",
        "    \"\"\"Prints the value counts for categorical columns in a pandas DataFrame\n",
        "    \n",
        "Meow, count the cats,\n",
        "Categorical values,\n",
        "Pandas purrs content.\n",
        "    \"\"\"\n",
        "    for column in df.select_dtypes(include=[\"category\", \"object\"]).columns:\n",
        "        print(f\"Value counts for {column}:\")\n",
        "        print(df[column].value_counts())\n",
        "        print(\"\\n\")"
      ],
      "metadata": {
        "id": "nVhq9bRxFmIB"
      },
      "execution_count": null,
      "outputs": []
    },
    {
      "cell_type": "code",
      "source": [
        "def count_nulls(data):\n",
        "    \"\"\"Checks for null values and displays only nulls\n",
        "    \n",
        "Null values abound,\n",
        "Display them with a function,\n",
        "Data cleaning done.\"\"\"\n",
        "    temp = data.isna().sum()\n",
        "    filter = temp > 0\n",
        "    print(data.shape)\n",
        "    print(temp[filter])"
      ],
      "metadata": {
        "id": "oGQPX01X0w6c"
      },
      "execution_count": null,
      "outputs": []
    }
  ]
}